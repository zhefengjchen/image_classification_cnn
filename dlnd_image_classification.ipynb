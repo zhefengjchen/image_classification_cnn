{
 "cells": [
  {
   "cell_type": "markdown",
   "metadata": {
    "collapsed": true
   },
   "source": [
    "# Image Classification\n",
    "In this project, you'll classify images from the [CIFAR-10 dataset](https://www.cs.toronto.edu/~kriz/cifar.html).  The dataset consists of airplanes, dogs, cats, and other objects. You'll preprocess the images, then train a convolutional neural network on all the samples. The images need to be normalized and the labels need to be one-hot encoded.  You'll get to apply what you learned and build a convolutional, max pooling, dropout, and fully connected layers.  At the end, you'll get to see your neural network's predictions on the sample images.\n",
    "## Get the Data\n",
    "Run the following cell to download the [CIFAR-10 dataset for python](https://www.cs.toronto.edu/~kriz/cifar-10-python.tar.gz)."
   ]
  },
  {
   "cell_type": "code",
   "execution_count": 1,
   "metadata": {
    "collapsed": false
   },
   "outputs": [
    {
     "name": "stdout",
     "output_type": "stream",
     "text": [
      "All files found!\n"
     ]
    }
   ],
   "source": [
    "\"\"\"\n",
    "DON'T MODIFY ANYTHING IN THIS CELL THAT IS BELOW THIS LINE\n",
    "\"\"\"\n",
    "from urllib.request import urlretrieve\n",
    "from os.path import isfile, isdir\n",
    "from tqdm import tqdm\n",
    "import problem_unittests as tests\n",
    "import tarfile\n",
    "\n",
    "\n",
    "cifar10_dataset_folder_path = 'cifar-10-batches-py'\n",
    "\n",
    "class DLProgress(tqdm):\n",
    "    last_block = 0\n",
    "    def hook(self, block_num=1, block_size=1, total_size=None):\n",
    "        self.total = total_size\n",
    "        self.update((block_num - self.last_block) * block_size)\n",
    "        self.last_block = block_num\n",
    "\n",
    "if not isfile('cifar-10-python.tar.gz'):\n",
    "    with DLProgress(unit='B', unit_scale=True, miniters=1, desc='CIFAR-10 Dataset') as pbar:\n",
    "        urlretrieve(\n",
    "            'https://www.cs.toronto.edu/~kriz/cifar-10-python.tar.gz',\n",
    "            'cifar-10-python.tar.gz',\n",
    "            pbar.hook)\n",
    "\n",
    "if not isdir(cifar10_dataset_folder_path):\n",
    "    with tarfile.open('cifar-10-python.tar.gz') as tar:\n",
    "        tar.extractall()\n",
    "        tar.close()\n",
    "\n",
    "tests.test_folder_path(cifar10_dataset_folder_path)"
   ]
  },
  {
   "cell_type": "markdown",
   "metadata": {},
   "source": [
    "## Explore the Data\n",
    "The dataset is broken into batches to prevent your machine from running out of memory.  The CIFAR-10 dataset consists of 5 batches, named `data_batch_1`, `data_batch_2`, etc.. Each batch contains the labels and images that are one of the following:\n",
    "* airplane\n",
    "* automobile\n",
    "* bird\n",
    "* cat\n",
    "* deer\n",
    "* dog\n",
    "* frog\n",
    "* horse\n",
    "* ship\n",
    "* truck\n",
    "\n",
    "Understanding a dataset is part of making predictions on the data.  Play around with the code cell below by changing the `batch_id` and `sample_id`. The `batch_id` is the id for a batch (1-5). The `sample_id` is the id for a image and label pair in the batch.\n",
    "\n",
    "Ask yourself \"What are all possible labels?\", \"What is the range of values for the image data?\", \"Are the labels in order or random?\".  Answers to questions like these will help you preprocess the data and end up with better predictions."
   ]
  },
  {
   "cell_type": "code",
   "execution_count": 2,
   "metadata": {
    "collapsed": false
   },
   "outputs": [
    {
     "name": "stdout",
     "output_type": "stream",
     "text": [
      "\n",
      "Stats of batch 2:\n",
      "Samples: 10000\n",
      "Label Counts: {0: 984, 1: 1007, 2: 1010, 3: 995, 4: 1010, 5: 988, 6: 1008, 7: 1026, 8: 987, 9: 985}\n",
      "First 20 Labels: [1, 6, 6, 8, 8, 3, 4, 6, 0, 6, 0, 3, 6, 6, 5, 4, 8, 3, 2, 6, 0, 3, 1, 4, 0, 6, 6, 2, 7, 6, 9, 0, 4, 5, 7, 1, 6, 7, 9, 1, 7, 7, 8, 0, 3, 7, 4, 7, 3, 1]\n",
      "\n",
      "Example of Image 100:\n",
      "Image - Min Value: 15 Max Value: 255\n",
      "Image - Shape: (32, 32, 3)\n",
      "Label - Label Id: 1 Name: automobile\n"
     ]
    },
    {
     "data": {
      "image/png": "[encoded data removed]",
      "text/plain": [
       "<matplotlib.figure.Figure at 0x167a8865358>"
      ]
     },
     "metadata": {
      "image/png": {
       "height": 250,
       "width": 253
      }
     },
     "output_type": "display_data"
    }
   ],
   "source": [
    "%matplotlib inline\n",
    "%config InlineBackend.figure_format = 'retina'\n",
    "\n",
    "import helper\n",
    "import numpy as np\n",
    "\n",
    "# Explore the dataset\n",
    "batch_id = 2\n",
    "sample_id = 100\n",
    "helper.display_stats(cifar10_dataset_folder_path, batch_id, sample_id)"
   ]
  },
  {
   "cell_type": "markdown",
   "metadata": {},
   "source": [
    "## Implement Preprocess Functions\n",
    "### Normalize\n",
    "In the cell below, implement the `normalize` function to take in image data, `x`, and return it as a normalized Numpy array. The values should be in the range of 0 to 1, inclusive.  The return object should be the same shape as `x`."
   ]
  },
  {
   "cell_type": "code",
   "execution_count": 3,
   "metadata": {
    "collapsed": false
   },
   "outputs": [
    {
     "name": "stdout",
     "output_type": "stream",
     "text": [
      "Tests Passed\n"
     ]
    }
   ],
   "source": [
    "def normalize(x):\n",
    "    \"\"\"\n",
    "    Normalize a list of sample image data in the range of 0 to 1\n",
    "    : x: List of image data.  The image shape is (32, 32, 3)\n",
    "    : return: Numpy array of normalize data\n",
    "    \"\"\"\n",
    "    # TODO: Implement Function\n",
    "    # since the range of value is from (0, 255), we can perform x/255.0 for each value\n",
    "    return np.array(x/255.0)\n",
    "\n",
    "\n",
    "\"\"\"\n",
    "DON'T MODIFY ANYTHING IN THIS CELL THAT IS BELOW THIS LINE\n",
    "\"\"\"\n",
    "tests.test_normalize(normalize)"
   ]
  },
  {
   "cell_type": "markdown",
   "metadata": {},
   "source": [
    "### One-hot encode\n",
    "Just like the previous code cell, you'll be implementing a function for preprocessing.  This time, you'll implement the `one_hot_encode` function. The input, `x`, are a list of labels.  Implement the function to return the list of labels as One-Hot encoded Numpy array.  The possible values for labels are 0 to 9. The one-hot encoding function should return the same encoding for each value between each call to `one_hot_encode`.  Make sure to save the map of encodings outside the function.\n",
    "\n",
    "Hint: Don't reinvent the wheel."
   ]
  },
  {
   "cell_type": "code",
   "execution_count": 4,
   "metadata": {
    "collapsed": false
   },
   "outputs": [
    {
     "name": "stdout",
     "output_type": "stream",
     "text": [
      "Tests Passed\n"
     ]
    }
   ],
   "source": [
    "from sklearn.preprocessing import LabelBinarizer\n",
    "def one_hot_encode(x):\n",
    "    \"\"\"\n",
    "    One hot encode a list of sample labels. Return a one-hot encoded vector for each label.\n",
    "    : x: List of sample Labels\n",
    "    : return: Numpy array of one-hot encoded labels\n",
    "    \"\"\"\n",
    "    # TODO: Implement Function\n",
    "    #Use LabelBinarizer() function from sklearn\n",
    "    one_hot_coder = LabelBinarizer()\n",
    "\n",
    "    #Fit label binarizer\n",
    "    one_hot_coder.fit([0,1,2,3,4,5,6,7,8,9])\n",
    "    \n",
    "    \n",
    "    # Transform the labels into one-hot encoded vectors  \n",
    "    return one_hot_coder.transform(x)\n",
    "\n",
    "\n",
    "\"\"\"\n",
    "DON'T MODIFY ANYTHING IN THIS CELL THAT IS BELOW THIS LINE\n",
    "\"\"\"\n",
    "tests.test_one_hot_encode(one_hot_encode)"
   ]
  },
  {
   "cell_type": "markdown",
   "metadata": {},
   "source": [
    "### Randomize Data\n",
    "As you saw from exploring the data above, the order of the samples are randomized.  It doesn't hurt to randomize it again, but you don't need to for this dataset."
   ]
  },
  {
   "cell_type": "markdown",
   "metadata": {},
   "source": [
    "## Preprocess all the data and save it\n",
    "Running the code cell below will preprocess all the CIFAR-10 data and save it to file. The code below also uses 10% of the training data for validation."
   ]
  },
  {
   "cell_type": "code",
   "execution_count": 5,
   "metadata": {
    "collapsed": false
   },
   "outputs": [],
   "source": [
    "\"\"\"\n",
    "DON'T MODIFY ANYTHING IN THIS CELL\n",
    "\"\"\"\n",
    "# Preprocess Training, Validation, and Testing Data\n",
    "helper.preprocess_and_save_data(cifar10_dataset_folder_path, normalize, one_hot_encode)"
   ]
  },
  {
   "cell_type": "markdown",
   "metadata": {},
   "source": [
    "# Check Point\n",
    "This is your first checkpoint.  If you ever decide to come back to this notebook or have to restart the notebook, you can start from here.  The preprocessed data has been saved to disk."
   ]
  },
  {
   "cell_type": "code",
   "execution_count": 6,
   "metadata": {
    "collapsed": true
   },
   "outputs": [],
   "source": [
    "\"\"\"\n",
    "DON'T MODIFY ANYTHING IN THIS CELL\n",
    "\"\"\"\n",
    "import pickle\n",
    "import problem_unittests as tests\n",
    "import helper\n",
    "\n",
    "# Load the Preprocessed Validation data\n",
    "valid_features, valid_labels = pickle.load(open('preprocess_validation.p', mode='rb'))"
   ]
  },
  {
   "cell_type": "markdown",
   "metadata": {},
   "source": [
    "## Build the network\n",
    "For the neural network, you'll build each layer into a function.  Most of the code you've seen has been outside of functions. To test your code more thoroughly, we require that you put each layer in a function.  This allows us to give you better feedback and test for simple mistakes using our unittests before you submit your project.\n",
    "\n",
    ">**Note:** If you're finding it hard to dedicate enough time for this course each week, we've provided a small shortcut to this part of the project. In the next couple of problems, you'll have the option to use classes from the [TensorFlow Layers](https://www.tensorflow.org/api_docs/python/tf/layers) or [TensorFlow Layers (contrib)](https://www.tensorflow.org/api_guides/python/contrib.layers) packages to build each layer, except the layers you build in the \"Convolutional and Max Pooling Layer\" section.  TF Layers is similar to Keras's and TFLearn's abstraction to layers, so it's easy to pickup.\n",
    "\n",
    ">However, if you would like to get the most out of this course, try to solve all the problems _without_ using anything from the TF Layers packages. You **can** still use classes from other packages that happen to have the same name as ones you find in TF Layers! For example, instead of using the TF Layers version of the `conv2d` class, [tf.layers.conv2d](https://www.tensorflow.org/api_docs/python/tf/layers/conv2d), you would want to use the TF Neural Network version of `conv2d`, [tf.nn.conv2d](https://www.tensorflow.org/api_docs/python/tf/nn/conv2d). \n",
    "\n",
    "Let's begin!\n",
    "\n",
    "### Input\n",
    "The neural network needs to read the image data, one-hot encoded labels, and dropout keep probability. Implement the following functions\n",
    "* Implement `neural_net_image_input`\n",
    " * Return a [TF Placeholder](https://www.tensorflow.org/api_docs/python/tf/placeholder)\n",
    " * Set the shape using `image_shape` with batch size set to `None`.\n",
    " * Name the TensorFlow placeholder \"x\" using the TensorFlow `name` parameter in the [TF Placeholder](https://www.tensorflow.org/api_docs/python/tf/placeholder).\n",
    "* Implement `neural_net_label_input`\n",
    " * Return a [TF Placeholder](https://www.tensorflow.org/api_docs/python/tf/placeholder)\n",
    " * Set the shape using `n_classes` with batch size set to `None`.\n",
    " * Name the TensorFlow placeholder \"y\" using the TensorFlow `name` parameter in the [TF Placeholder](https://www.tensorflow.org/api_docs/python/tf/placeholder).\n",
    "* Implement `neural_net_keep_prob_input`\n",
    " * Return a [TF Placeholder](https://www.tensorflow.org/api_docs/python/tf/placeholder) for dropout keep probability.\n",
    " * Name the TensorFlow placeholder \"keep_prob\" using the TensorFlow `name` parameter in the [TF Placeholder](https://www.tensorflow.org/api_docs/python/tf/placeholder).\n",
    "\n",
    "These names will be used at the end of the project to load your saved model.\n",
    "\n",
    "Note: `None` for shapes in TensorFlow allow for a dynamic size."
   ]
  },
  {
   "cell_type": "code",
   "execution_count": 7,
   "metadata": {
    "collapsed": false
   },
   "outputs": [
    {
     "name": "stdout",
     "output_type": "stream",
     "text": [
      "Image Input Tests Passed.\n",
      "Label Input Tests Passed.\n",
      "Keep Prob Tests Passed.\n"
     ]
    }
   ],
   "source": [
    "import tensorflow as tf\n",
    "\n",
    "def neural_net_image_input(image_shape):\n",
    "    \"\"\"\n",
    "    Return a Tensor for a bach of image input\n",
    "    : image_shape: Shape of the images\n",
    "    : return: Tensor for image input.\n",
    "    \"\"\"\n",
    "    # TODO: Implement Function\n",
    "    image = tf.placeholder(tf.float32, [None, image_shape[0], image_shape[1], image_shape[2]], name=\"x\")\n",
    "    return image\n",
    "\n",
    "\n",
    "def neural_net_label_input(n_classes):\n",
    "    \"\"\"\n",
    "    Return a Tensor for a batch of label input\n",
    "    : n_classes: Number of classes\n",
    "    : return: Tensor for label input.\n",
    "    \"\"\"\n",
    "    # TODO: Implement Function\n",
    "    label = tf.placeholder(tf.float32,[None, n_classes], name=\"y\")\n",
    "    return label\n",
    "\n",
    "\n",
    "def neural_net_keep_prob_input():\n",
    "    \"\"\"\n",
    "    Return a Tensor for keep probability\n",
    "    : return: Tensor for keep probability.\n",
    "    \"\"\"\n",
    "    # TODO: Implement Function\n",
    "    keep_prob = tf.placeholder(tf.float32, name=\"keep_prob\")\n",
    "    return keep_prob\n",
    "\n",
    "\n",
    "\"\"\"\n",
    "DON'T MODIFY ANYTHING IN THIS CELL THAT IS BELOW THIS LINE\n",
    "\"\"\"\n",
    "tf.reset_default_graph()\n",
    "tests.test_nn_image_inputs(neural_net_image_input)\n",
    "tests.test_nn_label_inputs(neural_net_label_input)\n",
    "tests.test_nn_keep_prob_inputs(neural_net_keep_prob_input)"
   ]
  },
  {
   "cell_type": "markdown",
   "metadata": {},
   "source": [
    "### Convolution and Max Pooling Layer\n",
    "Convolution layers have a lot of success with images. For this code cell, you should implement the function `conv2d_maxpool` to apply convolution then max pooling:\n",
    "* Create the weight and bias using `conv_ksize`, `conv_num_outputs` and the shape of `x_tensor`.\n",
    "* Apply a convolution to `x_tensor` using weight and `conv_strides`.\n",
    " * We recommend you use same padding, but you're welcome to use any padding.\n",
    "* Add bias\n",
    "* Add a nonlinear activation to the convolution.\n",
    "* Apply Max Pooling using `pool_ksize` and `pool_strides`.\n",
    " * We recommend you use same padding, but you're welcome to use any padding.\n",
    "\n",
    "**Note:** You **can't** use [TensorFlow Layers](https://www.tensorflow.org/api_docs/python/tf/layers) or [TensorFlow Layers (contrib)](https://www.tensorflow.org/api_guides/python/contrib.layers) for **this** layer, but you can still use TensorFlow's [Neural Network](https://www.tensorflow.org/api_docs/python/tf/nn) package. You may still use the shortcut option for all the **other** layers."
   ]
  },
  {
   "cell_type": "code",
   "execution_count": 8,
   "metadata": {
    "collapsed": false
   },
   "outputs": [
    {
     "name": "stdout",
     "output_type": "stream",
     "text": [
      "Tests Passed\n"
     ]
    }
   ],
   "source": [
    "def conv2d_maxpool(x_tensor, conv_num_outputs, conv_ksize, conv_strides, pool_ksize, pool_strides):\n",
    "    \"\"\"\n",
    "    Apply convolution then max pooling to x_tensor\n",
    "    :param x_tensor: TensorFlow Tensor\n",
    "    :param conv_num_outputs: Number of outputs for the convolutional layer\n",
    "    :param conv_ksize: kernal size 2-D Tuple for the convolutional layer\n",
    "    :param conv_strides: Stride 2-D Tuple for convolution\n",
    "    :param pool_ksize: kernal size 2-D Tuple for pool\n",
    "    :param pool_strides: Stride 2-D Tuple for pool\n",
    "    : return: A tensor that represents convolution and max pooling of x_tensor\n",
    "    \"\"\"\n",
    "    # TODO: Implement Function\n",
    "    # Get the color channel from input x_tensor [None, height, width, depth], we need to get the depth\n",
    "    color_channel = x_tensor.get_shape().as_list()[3]\n",
    "    \n",
    "    #define weights and biases\n",
    "    weights = tf.Variable(tf.truncated_normal([conv_ksize[0],conv_ksize[1],color_channel,conv_num_outputs],\n",
    "                                              dtype=tf.float32,mean=0.0,stddev=0.1))\n",
    "    biases = tf.Variable(tf.zeros(conv_num_outputs))\n",
    "    \n",
    "    #1st convolution to x_tensor using weight and conv_strides\n",
    "    layer_1 = tf.nn.conv2d(x_tensor, weights, strides=[1, conv_strides[0], conv_strides[1], 1], padding='SAME')\n",
    "    layer_1 = tf.nn.bias_add(layer_1, biases)\n",
    "    \n",
    "    #Add a nonlinear activation to convolution RELU\n",
    "    layer_1 = tf.nn.relu(layer_1)\n",
    "    \n",
    "    #Maxpooling based on pool_ksize and pool_strides\n",
    "    layer_1 = tf.nn.max_pool(layer_1, ksize=[1,pool_ksize[0],pool_ksize[1],1], \n",
    "                             strides=[1,pool_strides[0],pool_strides[1],1], padding=\"SAME\")\n",
    "    return layer_1\n",
    "\n",
    "\n",
    "\"\"\"\n",
    "DON'T MODIFY ANYTHING IN THIS CELL THAT IS BELOW THIS LINE\n",
    "\"\"\"\n",
    "tests.test_con_pool(conv2d_maxpool)"
   ]
  },
  {
   "cell_type": "markdown",
   "metadata": {},
   "source": [
    "### Flatten Layer\n",
    "Implement the `flatten` function to change the dimension of `x_tensor` from a 4-D tensor to a 2-D tensor.  The output should be the shape (*Batch Size*, *Flattened Image Size*). Shortcut option: you can use classes from the [TensorFlow Layers](https://www.tensorflow.org/api_docs/python/tf/layers) or [TensorFlow Layers (contrib)](https://www.tensorflow.org/api_guides/python/contrib.layers) packages for this layer. For more of a challenge, only use other TensorFlow packages."
   ]
  },
  {
   "cell_type": "code",
   "execution_count": 9,
   "metadata": {
    "collapsed": false
   },
   "outputs": [
    {
     "name": "stdout",
     "output_type": "stream",
     "text": [
      "Tests Passed\n"
     ]
    }
   ],
   "source": [
    "def flatten(x_tensor):\n",
    "    \"\"\"\n",
    "    Flatten x_tensor to (Batch Size, Flattened Image Size)\n",
    "    : x_tensor: A tensor of size (Batch Size, ...), where ... are the image dimensions.\n",
    "    : return: A tensor of size (Batch Size, Flattened Image Size).\n",
    "    \"\"\"\n",
    "    # TODO: Implement Function\n",
    "    image_size = x_tensor.get_shape().as_list()\n",
    "    #print(image_size)\n",
    "    x_tensor = tf.reshape(x_tensor, [-1, image_size[1]*image_size[2]*image_size[3]])\n",
    "    #print(x_tensor.get_shape().as_list())\n",
    "    return x_tensor\n",
    "\n",
    "\n",
    "\"\"\"\n",
    "DON'T MODIFY ANYTHING IN THIS CELL THAT IS BELOW THIS LINE\n",
    "\"\"\"\n",
    "tests.test_flatten(flatten)"
   ]
  },
  {
   "cell_type": "markdown",
   "metadata": {},
   "source": [
    "### Fully-Connected Layer\n",
    "Implement the `fully_conn` function to apply a fully connected layer to `x_tensor` with the shape (*Batch Size*, *num_outputs*). Shortcut option: you can use classes from the [TensorFlow Layers](https://www.tensorflow.org/api_docs/python/tf/layers) or [TensorFlow Layers (contrib)](https://www.tensorflow.org/api_guides/python/contrib.layers) packages for this layer. For more of a challenge, only use other TensorFlow packages."
   ]
  },
  {
   "cell_type": "code",
   "execution_count": 10,
   "metadata": {
    "collapsed": false
   },
   "outputs": [
    {
     "name": "stdout",
     "output_type": "stream",
     "text": [
      "Tests Passed\n"
     ]
    }
   ],
   "source": [
    "def fully_conn(x_tensor, num_outputs):\n",
    "    \"\"\"\n",
    "    Apply a fully connected layer to x_tensor using weight and bias\n",
    "    : x_tensor: A 2-D tensor where the first dimension is batch size.\n",
    "    : num_outputs: The number of output that the new tensor should be.\n",
    "    : return: A 2-D tensor where the second dimension is num_outputs.\n",
    "    \"\"\"\n",
    "    # TODO: Implement Function\n",
    "    input_layer = x_tensor.get_shape().as_list()[1]\n",
    "    \n",
    "    #Define weight and bias\n",
    "    weight = tf.Variable(tf.truncated_normal([input_layer, num_outputs], stddev=0.1))\n",
    "    bias = tf.Variable(tf.zeros(num_outputs))\n",
    "    \n",
    "    #weight * input + bias\n",
    "    out = tf.add(tf.matmul(x_tensor, weight), bias)\n",
    "    out = tf.nn.relu(out)\n",
    "    return out\n",
    "\n",
    "\n",
    "\"\"\"\n",
    "DON'T MODIFY ANYTHING IN THIS CELL THAT IS BELOW THIS LINE\n",
    "\"\"\"\n",
    "tests.test_fully_conn(fully_conn)"
   ]
  },
  {
   "cell_type": "markdown",
   "metadata": {},
   "source": [
    "### Output Layer\n",
    "Implement the `output` function to apply a fully connected layer to `x_tensor` with the shape (*Batch Size*, *num_outputs*). Shortcut option: you can use classes from the [TensorFlow Layers](https://www.tensorflow.org/api_docs/python/tf/layers) or [TensorFlow Layers (contrib)](https://www.tensorflow.org/api_guides/python/contrib.layers) packages for this layer. For more of a challenge, only use other TensorFlow packages.\n",
    "\n",
    "**Note:** Activation, softmax, or cross entropy should **not** be applied to this."
   ]
  },
  {
   "cell_type": "code",
   "execution_count": 11,
   "metadata": {
    "collapsed": false
   },
   "outputs": [
    {
     "name": "stdout",
     "output_type": "stream",
     "text": [
      "Tests Passed\n"
     ]
    }
   ],
   "source": [
    "def output(x_tensor, num_outputs):\n",
    "    \"\"\"\n",
    "    Apply a output layer to x_tensor using weight and bias\n",
    "    : x_tensor: A 2-D tensor where the first dimension is batch size.\n",
    "    : num_outputs: The number of output that the new tensor should be.\n",
    "    : return: A 2-D tensor where the second dimension is num_outputs.\n",
    "    \"\"\"\n",
    "    # TODO: Implement Function\n",
    "    input_layer = x_tensor.get_shape().as_list()[1]\n",
    "    \n",
    "    #Define weight and bias\n",
    "    weight = tf.Variable(tf.truncated_normal([input_layer, num_outputs], stddev=0.1))\n",
    "    bias = tf.Variable(tf.zeros(num_outputs))\n",
    "    \n",
    "    #weight * input + bias\n",
    "    out = tf.add(tf.matmul(x_tensor, weight), bias)\n",
    "    return out\n",
    "\n",
    "\n",
    "\"\"\"\n",
    "DON'T MODIFY ANYTHING IN THIS CELL THAT IS BELOW THIS LINE\n",
    "\"\"\"\n",
    "tests.test_output(output)"
   ]
  },
  {
   "cell_type": "markdown",
   "metadata": {},
   "source": [
    "### Create Convolutional Model\n",
    "Implement the function `conv_net` to create a convolutional neural network model. The function takes in a batch of images, `x`, and outputs logits.  Use the layers you created above to create this model:\n",
    "\n",
    "* Apply 1, 2, or 3 Convolution and Max Pool layers\n",
    "* Apply a Flatten Layer\n",
    "* Apply 1, 2, or 3 Fully Connected Layers\n",
    "* Apply an Output Layer\n",
    "* Return the output\n",
    "* Apply [TensorFlow's Dropout](https://www.tensorflow.org/api_docs/python/tf/nn/dropout) to one or more layers in the model using `keep_prob`. "
   ]
  },
  {
   "cell_type": "code",
   "execution_count": 36,
   "metadata": {
    "collapsed": false
   },
   "outputs": [
    {
     "name": "stdout",
     "output_type": "stream",
     "text": [
      "Neural Network Built!\n"
     ]
    }
   ],
   "source": [
    "def conv_net(x, keep_prob):\n",
    "    \"\"\"\n",
    "    Create a convolutional neural network model\n",
    "    : x: Placeholder tensor that holds image data.\n",
    "    : keep_prob: Placeholder tensor that hold dropout keep probability.\n",
    "    : return: Tensor that represents logits\n",
    "    \"\"\"\n",
    "    #Parameters for stride and filter\n",
    "    conv_num_outputs= 32\n",
    "    conv_ksize=[3,3]\n",
    "    conv_strides=[1,1]\n",
    "    pool_ksize=[2,2]\n",
    "    pool_strides=[1,1]\n",
    "    \n",
    "    \n",
    "    # TODO: Apply 1, 2, or 3 Convolution and Max Pool layers\n",
    "    #    Play around with different number of outputs, kernel size and stride\n",
    "    # Function Definition from Above:\n",
    "    #    conv2d_maxpool(x_tensor, conv_num_outputs, conv_ksize, conv_strides, pool_ksize, pool_strides)\n",
    "    conv_layer = conv2d_maxpool(x, conv_num_outputs, conv_ksize, conv_strides, pool_ksize, pool_strides)    \n",
    "    \n",
    "    # TODO: Apply a Flatten Layer\n",
    "    # Function Definition from Above:\n",
    "    #   flatten(x_tensor)\n",
    "    flatten_layer = flatten(conv_layer)\n",
    "\n",
    "    # TODO: Apply 1, 2, or 3 Fully Connected Layers\n",
    "    #    Play around with different number of outputs\n",
    "    # Function Definition from Above:\n",
    "    #   fully_conn(x_tensor, num_outputs)\n",
    "    fully_layer = fully_conn(flatten_layer, 16)\n",
    "    fully_layer = tf.nn.dropout(fully_layer, keep_prob)\n",
    "    \n",
    "    # TODO: Apply an Output Layer\n",
    "    #    Set this to the number of classes\n",
    "    # Function Definition from Above:\n",
    "    #   output(x_tensor, num_outputs)\n",
    "    output_layer = output(fully_layer, 10)\n",
    "    \n",
    "    # TODO: return output\n",
    "    return output_layer\n",
    "\n",
    "\n",
    "\"\"\"\n",
    "DON'T MODIFY ANYTHING IN THIS CELL THAT IS BELOW THIS LINE\n",
    "\"\"\"\n",
    "\n",
    "##############################\n",
    "## Build the Neural Network ##\n",
    "##############################\n",
    "\n",
    "# Remove previous weights, bias, inputs, etc..\n",
    "tf.reset_default_graph()\n",
    "\n",
    "# Inputs\n",
    "x = neural_net_image_input((32, 32, 3))\n",
    "y = neural_net_label_input(10)\n",
    "keep_prob = neural_net_keep_prob_input()\n",
    "\n",
    "# Model\n",
    "logits = conv_net(x, keep_prob)\n",
    "\n",
    "# Name logits Tensor, so that is can be loaded from disk after training\n",
    "logits = tf.identity(logits, name='logits')\n",
    "\n",
    "# Loss and Optimizer\n",
    "cost = tf.reduce_mean(tf.nn.softmax_cross_entropy_with_logits(logits=logits, labels=y))\n",
    "optimizer = tf.train.AdamOptimizer().minimize(cost)\n",
    "\n",
    "# Accuracy\n",
    "correct_pred = tf.equal(tf.argmax(logits, 1), tf.argmax(y, 1))\n",
    "accuracy = tf.reduce_mean(tf.cast(correct_pred, tf.float32), name='accuracy')\n",
    "\n",
    "tests.test_conv_net(conv_net)"
   ]
  },
  {
   "cell_type": "markdown",
   "metadata": {},
   "source": [
    "## Train the Neural Network\n",
    "### Single Optimization\n",
    "Implement the function `train_neural_network` to do a single optimization.  The optimization should use `optimizer` to optimize in `session` with a `feed_dict` of the following:\n",
    "* `x` for image input\n",
    "* `y` for labels\n",
    "* `keep_prob` for keep probability for dropout\n",
    "\n",
    "This function will be called for each batch, so `tf.global_variables_initializer()` has already been called.\n",
    "\n",
    "Note: Nothing needs to be returned. This function is only optimizing the neural network."
   ]
  },
  {
   "cell_type": "code",
   "execution_count": 37,
   "metadata": {
    "collapsed": false
   },
   "outputs": [
    {
     "name": "stdout",
     "output_type": "stream",
     "text": [
      "Tests Passed\n"
     ]
    }
   ],
   "source": [
    "def train_neural_network(session, optimizer, keep_probability, feature_batch, label_batch):\n",
    "    \"\"\"\n",
    "    Optimize the session on a batch of images and labels\n",
    "    : session: Current TensorFlow session\n",
    "    : optimizer: TensorFlow optimizer function\n",
    "    : keep_probability: keep probability\n",
    "    : feature_batch: Batch of Numpy image data\n",
    "    : label_batch: Batch of Numpy label data\n",
    "    \"\"\"\n",
    "    # TODO: Implement Function\n",
    "    session.run(optimizer, feed_dict={x: feature_batch, y: label_batch, keep_prob: keep_probability})\n",
    "    \n",
    "\n",
    "\n",
    "\"\"\"\n",
    "DON'T MODIFY ANYTHING IN THIS CELL THAT IS BELOW THIS LINE\n",
    "\"\"\"\n",
    "tests.test_train_nn(train_neural_network)"
   ]
  },
  {
   "cell_type": "markdown",
   "metadata": {},
   "source": [
    "### Show Stats\n",
    "Implement the function `print_stats` to print loss and validation accuracy.  Use the global variables `valid_features` and `valid_labels` to calculate validation accuracy.  Use a keep probability of `1.0` to calculate the loss and validation accuracy."
   ]
  },
  {
   "cell_type": "code",
   "execution_count": 38,
   "metadata": {
    "collapsed": false
   },
   "outputs": [],
   "source": [
    "def print_stats(session, feature_batch, label_batch, cost, accuracy):\n",
    "    \"\"\"\n",
    "    Print information about loss and validation accuracy\n",
    "    : session: Current TensorFlow session\n",
    "    : feature_batch: Batch of Numpy image data\n",
    "    : label_batch: Batch of Numpy label data\n",
    "    : cost: TensorFlow cost function\n",
    "    : accuracy: TensorFlow accuracy function\n",
    "    \"\"\"\n",
    "    # TODO: Implement Function\n",
    "    cost_ = session.run(cost, feed_dict={x: feature_batch, y: label_batch, keep_prob: 1.0}) \n",
    "    acc_ = session.run(accuracy, feed_dict={x: valid_features, y: valid_labels, keep_prob: 1.0})\n",
    "    print(\"\\ncost: {}  accuracy: {}\".format(cost_, acc_))"
   ]
  },
  {
   "cell_type": "markdown",
   "metadata": {},
   "source": [
    "### Hyperparameters\n",
    "Tune the following parameters:\n",
    "* Set `epochs` to the number of iterations until the network stops learning or start overfitting\n",
    "* Set `batch_size` to the highest number that your machine has memory for.  Most people set them to common sizes of memory:\n",
    " * 64\n",
    " * 128\n",
    " * 256\n",
    " * ...\n",
    "* Set `keep_probability` to the probability of keeping a node using dropout"
   ]
  },
  {
   "cell_type": "code",
   "execution_count": 45,
   "metadata": {
    "collapsed": false
   },
   "outputs": [],
   "source": [
    "# TODO: Tune Parameters\n",
    "epochs = 25\n",
    "batch_size = 256\n",
    "keep_probability = 0.50"
   ]
  },
  {
   "cell_type": "markdown",
   "metadata": {},
   "source": [
    "### Train on a Single CIFAR-10 Batch\n",
    "Instead of training the neural network on all the CIFAR-10 batches of data, let's use a single batch. This should save time while you iterate on the model to get a better accuracy.  Once the final validation accuracy is 50% or greater, run the model on all the data in the next section."
   ]
  },
  {
   "cell_type": "code",
   "execution_count": 46,
   "metadata": {
    "collapsed": false
   },
   "outputs": [
    {
     "name": "stdout",
     "output_type": "stream",
     "text": [
      "Checking the Training on a Single Batch...\n",
      "Epoch  1, CIFAR-10 Batch 1:  \n",
      "cost: 2.295834541320801  accuracy: 0.09780000150203705\n",
      "Epoch  2, CIFAR-10 Batch 1:  \n",
      "cost: 2.2281365394592285  accuracy: 0.1833999902009964\n",
      "Epoch  3, CIFAR-10 Batch 1:  \n",
      "cost: 2.1879665851593018  accuracy: 0.2085999846458435\n",
      "Epoch  4, CIFAR-10 Batch 1:  \n",
      "cost: 2.1692779064178467  accuracy: 0.2191999852657318\n",
      "Epoch  5, CIFAR-10 Batch 1:  \n",
      "cost: 2.1544528007507324  accuracy: 0.2191999852657318\n",
      "Epoch  6, CIFAR-10 Batch 1:  \n",
      "cost: 2.142214059829712  accuracy: 0.21559996902942657\n",
      "Epoch  7, CIFAR-10 Batch 1:  \n",
      "cost: 2.0475025177001953  accuracy: 0.2679999768733978\n",
      "Epoch  8, CIFAR-10 Batch 1:  \n",
      "cost: 2.0022013187408447  accuracy: 0.2881999909877777\n",
      "Epoch  9, CIFAR-10 Batch 1:  \n",
      "cost: 1.9468402862548828  accuracy: 0.29120001196861267\n",
      "Epoch 10, CIFAR-10 Batch 1:  \n",
      "cost: 1.9139299392700195  accuracy: 0.2831999957561493\n",
      "Epoch 11, CIFAR-10 Batch 1:  \n",
      "cost: 1.9167174100875854  accuracy: 0.2831999957561493\n",
      "Epoch 12, CIFAR-10 Batch 1:  \n",
      "cost: 1.8824665546417236  accuracy: 0.2741999924182892\n",
      "Epoch 13, CIFAR-10 Batch 1:  \n",
      "cost: 1.831766963005066  accuracy: 0.31439998745918274\n",
      "Epoch 14, CIFAR-10 Batch 1:  \n",
      "cost: 1.8602246046066284  accuracy: 0.2913999557495117\n",
      "Epoch 15, CIFAR-10 Batch 1:  \n",
      "cost: 1.8413749933242798  accuracy: 0.30619996786117554\n",
      "Epoch 16, CIFAR-10 Batch 1:  \n",
      "cost: 1.7619426250457764  accuracy: 0.31060001254081726\n",
      "Epoch 17, CIFAR-10 Batch 1:  \n",
      "cost: 1.7309794425964355  accuracy: 0.33299997448921204\n",
      "Epoch 18, CIFAR-10 Batch 1:  \n",
      "cost: 1.6739073991775513  accuracy: 0.35359999537467957\n",
      "Epoch 19, CIFAR-10 Batch 1:  \n",
      "cost: 1.614027976989746  accuracy: 0.3628000020980835\n",
      "Epoch 20, CIFAR-10 Batch 1:  \n",
      "cost: 1.5992076396942139  accuracy: 0.3630000054836273\n",
      "Epoch 21, CIFAR-10 Batch 1:  \n",
      "cost: 1.5644433498382568  accuracy: 0.3741999566555023\n",
      "Epoch 22, CIFAR-10 Batch 1:  \n",
      "cost: 1.5652358531951904  accuracy: 0.35759997367858887\n",
      "Epoch 23, CIFAR-10 Batch 1:  \n",
      "cost: 1.5325133800506592  accuracy: 0.37199997901916504\n",
      "Epoch 24, CIFAR-10 Batch 1:  \n",
      "cost: 1.5154461860656738  accuracy: 0.37619999051094055\n",
      "Epoch 25, CIFAR-10 Batch 1:  \n",
      "cost: 1.4631555080413818  accuracy: 0.37379997968673706\n"
     ]
    }
   ],
   "source": [
    "\"\"\"\n",
    "DON'T MODIFY ANYTHING IN THIS CELL\n",
    "\"\"\"\n",
    "print('Checking the Training on a Single Batch...')\n",
    "with tf.Session() as sess:\n",
    "    # Initializing the variables\n",
    "    sess.run(tf.global_variables_initializer())\n",
    "    \n",
    "    # Training cycle\n",
    "    for epoch in range(epochs):\n",
    "        batch_i = 1\n",
    "        for batch_features, batch_labels in helper.load_preprocess_training_batch(batch_i, batch_size):\n",
    "            train_neural_network(sess, optimizer, keep_probability, batch_features, batch_labels)\n",
    "        print('Epoch {:>2}, CIFAR-10 Batch {}:  '.format(epoch + 1, batch_i), end='')\n",
    "        print_stats(sess, batch_features, batch_labels, cost, accuracy)"
   ]
  },
  {
   "cell_type": "markdown",
   "metadata": {},
   "source": [
    "### Fully Train the Model\n",
    "Now that you got a good accuracy with a single CIFAR-10 batch, try it with all five batches."
   ]
  },
  {
   "cell_type": "code",
   "execution_count": 47,
   "metadata": {
    "collapsed": false
   },
   "outputs": [
    {
     "name": "stdout",
     "output_type": "stream",
     "text": [
      "Training...\n",
      "Epoch  1, CIFAR-10 Batch 1:  \n",
      "cost: 2.286424398422241  accuracy: 0.18199999630451202\n",
      "Epoch  1, CIFAR-10 Batch 2:  \n",
      "cost: 2.1069300174713135  accuracy: 0.20960001647472382\n",
      "Epoch  1, CIFAR-10 Batch 3:  \n",
      "cost: 2.06646466255188  accuracy: 0.22499999403953552\n",
      "Epoch  1, CIFAR-10 Batch 4:  \n",
      "cost: 2.1043081283569336  accuracy: 0.25540000200271606\n",
      "Epoch  1, CIFAR-10 Batch 5:  \n",
      "cost: 2.1090927124023438  accuracy: 0.24819998443126678\n",
      "Epoch  2, CIFAR-10 Batch 1:  \n",
      "cost: 2.1574909687042236  accuracy: 0.2393999993801117\n",
      "Epoch  2, CIFAR-10 Batch 2:  \n",
      "cost: 1.9697362184524536  accuracy: 0.28999996185302734\n",
      "Epoch  2, CIFAR-10 Batch 3:  \n",
      "cost: 1.726377010345459  accuracy: 0.334600031375885\n",
      "Epoch  2, CIFAR-10 Batch 4:  \n",
      "cost: 1.8428168296813965  accuracy: 0.35099998116493225\n",
      "Epoch  2, CIFAR-10 Batch 5:  \n",
      "cost: 1.8263146877288818  accuracy: 0.3667999804019928\n",
      "Epoch  3, CIFAR-10 Batch 1:  \n",
      "cost: 1.881616473197937  accuracy: 0.37300002574920654\n",
      "Epoch  3, CIFAR-10 Batch 2:  \n",
      "cost: 1.7738075256347656  accuracy: 0.40560001134872437\n",
      "Epoch  3, CIFAR-10 Batch 3:  \n",
      "cost: 1.460493564605713  accuracy: 0.40139997005462646\n",
      "Epoch  3, CIFAR-10 Batch 4:  \n",
      "cost: 1.6542974710464478  accuracy: 0.421999990940094\n",
      "Epoch  3, CIFAR-10 Batch 5:  \n",
      "cost: 1.6775224208831787  accuracy: 0.4261999726295471\n",
      "Epoch  4, CIFAR-10 Batch 1:  \n",
      "cost: 1.7867176532745361  accuracy: 0.417199969291687\n",
      "Epoch  4, CIFAR-10 Batch 2:  \n",
      "cost: 1.643166422843933  accuracy: 0.4405999779701233\n",
      "Epoch  4, CIFAR-10 Batch 3:  \n",
      "cost: 1.3834900856018066  accuracy: 0.4383999705314636\n",
      "Epoch  4, CIFAR-10 Batch 4:  \n",
      "cost: 1.59868323802948  accuracy: 0.42080000042915344\n",
      "Epoch  4, CIFAR-10 Batch 5:  \n",
      "cost: 1.5748560428619385  accuracy: 0.444599986076355\n",
      "Epoch  5, CIFAR-10 Batch 1:  \n",
      "cost: 1.6796302795410156  accuracy: 0.43459996581077576\n",
      "Epoch  5, CIFAR-10 Batch 2:  \n",
      "cost: 1.5582666397094727  accuracy: 0.46799996495246887\n",
      "Epoch  5, CIFAR-10 Batch 3:  \n",
      "cost: 1.3333935737609863  accuracy: 0.46699994802474976\n",
      "Epoch  5, CIFAR-10 Batch 4:  \n",
      "cost: 1.51366126537323  accuracy: 0.45859992504119873\n",
      "Epoch  5, CIFAR-10 Batch 5:  \n",
      "cost: 1.5146520137786865  accuracy: 0.44099998474121094\n",
      "Epoch  6, CIFAR-10 Batch 1:  \n",
      "cost: 1.57676362991333  accuracy: 0.44999998807907104\n",
      "Epoch  6, CIFAR-10 Batch 2:  \n",
      "cost: 1.5337142944335938  accuracy: 0.4593999981880188\n",
      "Epoch  6, CIFAR-10 Batch 3:  \n",
      "cost: 1.3258095979690552  accuracy: 0.47979995608329773\n",
      "Epoch  6, CIFAR-10 Batch 4:  \n",
      "cost: 1.4596469402313232  accuracy: 0.4615999758243561\n",
      "Epoch  6, CIFAR-10 Batch 5:  \n",
      "cost: 1.423667311668396  accuracy: 0.4575999677181244\n",
      "Epoch  7, CIFAR-10 Batch 1:  \n",
      "cost: 1.5133520364761353  accuracy: 0.47679993510246277\n",
      "Epoch  7, CIFAR-10 Batch 2:  \n",
      "cost: 1.4313373565673828  accuracy: 0.4817999601364136\n",
      "Epoch  7, CIFAR-10 Batch 3:  \n",
      "cost: 1.2573082447052002  accuracy: 0.4883999228477478\n",
      "Epoch  7, CIFAR-10 Batch 4:  \n",
      "cost: 1.3857570886611938  accuracy: 0.48219993710517883\n",
      "Epoch  7, CIFAR-10 Batch 5:  \n",
      "cost: 1.3818494081497192  accuracy: 0.4755999445915222\n",
      "Epoch  8, CIFAR-10 Batch 1:  \n",
      "cost: 1.508277177810669  accuracy: 0.4691999554634094\n",
      "Epoch  8, CIFAR-10 Batch 2:  \n",
      "cost: 1.410057783126831  accuracy: 0.4666000008583069\n",
      "Epoch  8, CIFAR-10 Batch 3:  \n",
      "cost: 1.2241675853729248  accuracy: 0.4957999587059021\n",
      "Epoch  8, CIFAR-10 Batch 4:  \n",
      "cost: 1.3593688011169434  accuracy: 0.4975999891757965\n",
      "Epoch  8, CIFAR-10 Batch 5:  \n",
      "cost: 1.3544206619262695  accuracy: 0.48319998383522034\n",
      "Epoch  9, CIFAR-10 Batch 1:  \n",
      "cost: 1.4925329685211182  accuracy: 0.4989999830722809\n",
      "Epoch  9, CIFAR-10 Batch 2:  \n",
      "cost: 1.3625872135162354  accuracy: 0.4957999587059021\n",
      "Epoch  9, CIFAR-10 Batch 3:  \n",
      "cost: 1.2435550689697266  accuracy: 0.49619993567466736\n",
      "Epoch  9, CIFAR-10 Batch 4:  \n",
      "cost: 1.3444451093673706  accuracy: 0.49619993567466736\n",
      "Epoch  9, CIFAR-10 Batch 5:  \n",
      "cost: 1.3254965543746948  accuracy: 0.49919992685317993\n",
      "Epoch 10, CIFAR-10 Batch 1:  \n",
      "cost: 1.45381498336792  accuracy: 0.4506000280380249\n",
      "Epoch 10, CIFAR-10 Batch 2:  \n",
      "cost: 1.3306583166122437  accuracy: 0.5061999559402466\n",
      "Epoch 10, CIFAR-10 Batch 3:  \n",
      "cost: 1.200243592262268  accuracy: 0.5121999382972717\n",
      "Epoch 10, CIFAR-10 Batch 4:  \n",
      "cost: 1.2742189168930054  accuracy: 0.5135999321937561\n",
      "Epoch 10, CIFAR-10 Batch 5:  \n",
      "cost: 1.2774012088775635  accuracy: 0.5183999538421631\n",
      "Epoch 11, CIFAR-10 Batch 1:  \n",
      "cost: 1.3058048486709595  accuracy: 0.49439993500709534\n",
      "Epoch 11, CIFAR-10 Batch 2:  \n",
      "cost: 1.2245068550109863  accuracy: 0.51419997215271\n",
      "Epoch 11, CIFAR-10 Batch 3:  \n",
      "cost: 1.1146552562713623  accuracy: 0.5057999491691589\n",
      "Epoch 11, CIFAR-10 Batch 4:  \n",
      "cost: 1.2268377542495728  accuracy: 0.5153999328613281\n",
      "Epoch 11, CIFAR-10 Batch 5:  \n",
      "cost: 1.1790990829467773  accuracy: 0.5198000073432922\n",
      "Epoch 12, CIFAR-10 Batch 1:  \n",
      "cost: 1.2527680397033691  accuracy: 0.49219992756843567\n",
      "Epoch 12, CIFAR-10 Batch 2:  \n",
      "cost: 1.1596673727035522  accuracy: 0.5231999754905701\n",
      "Epoch 12, CIFAR-10 Batch 3:  \n",
      "cost: 1.1068217754364014  accuracy: 0.5185999870300293\n",
      "Epoch 12, CIFAR-10 Batch 4:  \n",
      "cost: 1.1807796955108643  accuracy: 0.5247999429702759\n",
      "Epoch 12, CIFAR-10 Batch 5:  \n",
      "cost: 1.153151035308838  accuracy: 0.5361999273300171\n",
      "Epoch 13, CIFAR-10 Batch 1:  \n",
      "cost: 1.204345703125  accuracy: 0.5251999497413635\n",
      "Epoch 13, CIFAR-10 Batch 2:  \n",
      "cost: 1.1852751970291138  accuracy: 0.5141999125480652\n",
      "Epoch 13, CIFAR-10 Batch 3:  \n",
      "cost: 1.0833526849746704  accuracy: 0.5175999402999878\n",
      "Epoch 13, CIFAR-10 Batch 4:  \n",
      "cost: 1.1032272577285767  accuracy: 0.5257999897003174\n",
      "Epoch 13, CIFAR-10 Batch 5:  \n",
      "cost: 1.1250189542770386  accuracy: 0.5257999300956726\n",
      "Epoch 14, CIFAR-10 Batch 1:  \n",
      "cost: 1.1638809442520142  accuracy: 0.5283999443054199\n",
      "Epoch 14, CIFAR-10 Batch 2:  \n",
      "cost: 1.1155569553375244  accuracy: 0.5311999320983887\n",
      "Epoch 14, CIFAR-10 Batch 3:  \n",
      "cost: 1.0331224203109741  accuracy: 0.5303999185562134\n",
      "Epoch 14, CIFAR-10 Batch 4:  \n",
      "cost: 1.0867280960083008  accuracy: 0.5193999409675598\n",
      "Epoch 14, CIFAR-10 Batch 5:  \n",
      "cost: 1.0629191398620605  accuracy: 0.5281998515129089\n",
      "Epoch 15, CIFAR-10 Batch 1:  \n",
      "cost: 1.0880582332611084  accuracy: 0.5270000100135803\n",
      "Epoch 15, CIFAR-10 Batch 2:  \n",
      "cost: 1.099799394607544  accuracy: 0.538599967956543\n",
      "Epoch 15, CIFAR-10 Batch 3:  \n",
      "cost: 1.0776009559631348  accuracy: 0.5167999267578125\n",
      "Epoch 15, CIFAR-10 Batch 4:  \n",
      "cost: 1.074183702468872  accuracy: 0.5351999402046204\n",
      "Epoch 15, CIFAR-10 Batch 5:  \n",
      "cost: 1.0446585416793823  accuracy: 0.5361999273300171\n",
      "Epoch 16, CIFAR-10 Batch 1:  \n",
      "cost: 1.1022603511810303  accuracy: 0.5205999612808228\n",
      "Epoch 16, CIFAR-10 Batch 2:  \n",
      "cost: 1.0651581287384033  accuracy: 0.540399968624115\n",
      "Epoch 16, CIFAR-10 Batch 3:  \n",
      "cost: 1.0165255069732666  accuracy: 0.5361999273300171\n",
      "Epoch 16, CIFAR-10 Batch 4:  \n",
      "cost: 1.0265847444534302  accuracy: 0.5313999652862549\n",
      "Epoch 16, CIFAR-10 Batch 5:  \n",
      "cost: 1.0136094093322754  accuracy: 0.5481999516487122\n",
      "Epoch 17, CIFAR-10 Batch 1:  \n",
      "cost: 1.070827603340149  accuracy: 0.5263999700546265\n",
      "Epoch 17, CIFAR-10 Batch 2:  \n",
      "cost: 1.069854736328125  accuracy: 0.5435999631881714\n",
      "Epoch 17, CIFAR-10 Batch 3:  \n",
      "cost: 0.9900152683258057  accuracy: 0.5431999564170837\n",
      "Epoch 17, CIFAR-10 Batch 4:  \n",
      "cost: 0.9798572063446045  accuracy: 0.5469999313354492\n",
      "Epoch 17, CIFAR-10 Batch 5:  \n",
      "cost: 1.0044054985046387  accuracy: 0.5423999428749084\n",
      "Epoch 18, CIFAR-10 Batch 1:  \n",
      "cost: 1.05600905418396  accuracy: 0.5365999341011047\n",
      "Epoch 18, CIFAR-10 Batch 2:  \n",
      "cost: 1.0229856967926025  accuracy: 0.5499998927116394\n",
      "Epoch 18, CIFAR-10 Batch 3:  \n",
      "cost: 0.9244987368583679  accuracy: 0.5467999577522278\n",
      "Epoch 18, CIFAR-10 Batch 4:  \n",
      "cost: 0.9442876577377319  accuracy: 0.5471999645233154\n",
      "Epoch 18, CIFAR-10 Batch 5:  \n",
      "cost: 1.0054243803024292  accuracy: 0.5411999821662903\n",
      "Epoch 19, CIFAR-10 Batch 1:  \n",
      "cost: 1.0309985876083374  accuracy: 0.5507999062538147\n",
      "Epoch 19, CIFAR-10 Batch 2:  \n",
      "cost: 0.9945162534713745  accuracy: 0.556999921798706\n",
      "Epoch 19, CIFAR-10 Batch 3:  \n",
      "cost: 0.9646506905555725  accuracy: 0.5459999442100525\n",
      "Epoch 19, CIFAR-10 Batch 4:  \n",
      "cost: 0.9313688278198242  accuracy: 0.5443999767303467\n",
      "Epoch 19, CIFAR-10 Batch 5:  \n",
      "cost: 0.9353434443473816  accuracy: 0.5519999265670776\n",
      "Epoch 20, CIFAR-10 Batch 1:  \n",
      "cost: 1.0146684646606445  accuracy: 0.5517999529838562\n",
      "Epoch 20, CIFAR-10 Batch 2:  \n",
      "cost: 0.9786102175712585  accuracy: 0.5441999435424805\n",
      "Epoch 20, CIFAR-10 Batch 3:  \n",
      "cost: 0.9504857659339905  accuracy: 0.540399968624115\n",
      "Epoch 20, CIFAR-10 Batch 4:  \n",
      "cost: 0.9137846231460571  accuracy: 0.5489999055862427\n",
      "Epoch 20, CIFAR-10 Batch 5:  \n",
      "cost: 0.9178458452224731  accuracy: 0.5517999529838562\n",
      "Epoch 21, CIFAR-10 Batch 1:  \n",
      "cost: 0.9812724590301514  accuracy: 0.5545998811721802\n",
      "Epoch 21, CIFAR-10 Batch 2:  \n",
      "cost: 0.9778681993484497  accuracy: 0.5443999767303467\n",
      "Epoch 21, CIFAR-10 Batch 3:  \n",
      "cost: 0.9301016926765442  accuracy: 0.5361999273300171\n",
      "Epoch 21, CIFAR-10 Batch 4:  \n",
      "cost: 0.8645576238632202  accuracy: 0.5555999279022217\n",
      "Epoch 21, CIFAR-10 Batch 5:  \n",
      "cost: 0.9223217964172363  accuracy: 0.5393999218940735\n",
      "Epoch 22, CIFAR-10 Batch 1:  \n",
      "cost: 0.9922389984130859  accuracy: 0.5407999157905579\n",
      "Epoch 22, CIFAR-10 Batch 2:  \n",
      "cost: 1.0014280080795288  accuracy: 0.5447999238967896\n",
      "Epoch 22, CIFAR-10 Batch 3:  \n",
      "cost: 0.8931695222854614  accuracy: 0.5473999381065369\n",
      "Epoch 22, CIFAR-10 Batch 4:  \n",
      "cost: 0.8596309423446655  accuracy: 0.5513999462127686\n",
      "Epoch 22, CIFAR-10 Batch 5:  \n",
      "cost: 0.9009343981742859  accuracy: 0.5549999475479126\n",
      "Epoch 23, CIFAR-10 Batch 1:  \n",
      "cost: 0.9568794369697571  accuracy: 0.5491999387741089\n",
      "Epoch 23, CIFAR-10 Batch 2:  \n",
      "cost: 1.0122947692871094  accuracy: 0.5321999788284302\n",
      "Epoch 23, CIFAR-10 Batch 3:  \n",
      "cost: 0.8862189054489136  accuracy: 0.543799877166748\n",
      "Epoch 23, CIFAR-10 Batch 4:  \n",
      "cost: 0.8692384958267212  accuracy: 0.5423999428749084\n",
      "Epoch 23, CIFAR-10 Batch 5:  \n",
      "cost: 0.8612284064292908  accuracy: 0.5445999503135681\n",
      "Epoch 24, CIFAR-10 Batch 1:  \n",
      "cost: 0.9439207911491394  accuracy: 0.5469999313354492\n",
      "Epoch 24, CIFAR-10 Batch 2:  \n",
      "cost: 0.9559152126312256  accuracy: 0.5547999143600464\n",
      "Epoch 24, CIFAR-10 Batch 3:  \n",
      "cost: 0.8661206364631653  accuracy: 0.5459999442100525\n",
      "Epoch 24, CIFAR-10 Batch 4:  \n",
      "cost: 0.8766768574714661  accuracy: 0.543199896812439\n",
      "Epoch 24, CIFAR-10 Batch 5:  \n",
      "cost: 0.8883391618728638  accuracy: 0.5461999177932739\n",
      "Epoch 25, CIFAR-10 Batch 1:  \n",
      "cost: 0.9338982105255127  accuracy: 0.5379999279975891\n",
      "Epoch 25, CIFAR-10 Batch 2:  \n",
      "cost: 0.9112817049026489  accuracy: 0.5489999055862427\n",
      "Epoch 25, CIFAR-10 Batch 3:  \n",
      "cost: 0.807807981967926  accuracy: 0.55159991979599\n",
      "Epoch 25, CIFAR-10 Batch 4:  \n",
      "cost: 0.8377887010574341  accuracy: 0.5481999516487122\n",
      "Epoch 25, CIFAR-10 Batch 5:  \n",
      "cost: 0.84566730260849  accuracy: 0.5511999726295471\n"
     ]
    }
   ],
   "source": [
    "\"\"\"\n",
    "DON'T MODIFY ANYTHING IN THIS CELL\n",
    "\"\"\"\n",
    "save_model_path = './image_classification'\n",
    "\n",
    "print('Training...')\n",
    "with tf.Session() as sess:\n",
    "    # Initializing the variables\n",
    "    sess.run(tf.global_variables_initializer())\n",
    "    \n",
    "    # Training cycle\n",
    "    for epoch in range(epochs):\n",
    "        # Loop over all batches\n",
    "        n_batches = 5\n",
    "        for batch_i in range(1, n_batches + 1):\n",
    "            for batch_features, batch_labels in helper.load_preprocess_training_batch(batch_i, batch_size):\n",
    "                train_neural_network(sess, optimizer, keep_probability, batch_features, batch_labels)\n",
    "            print('Epoch {:>2}, CIFAR-10 Batch {}:  '.format(epoch + 1, batch_i), end='')\n",
    "            print_stats(sess, batch_features, batch_labels, cost, accuracy)\n",
    "            \n",
    "    # Save Model\n",
    "    saver = tf.train.Saver()\n",
    "    save_path = saver.save(sess, save_model_path)"
   ]
  },
  {
   "cell_type": "markdown",
   "metadata": {},
   "source": [
    "# Checkpoint\n",
    "The model has been saved to disk.\n",
    "## Test Model\n",
    "Test your model against the test dataset.  This will be your final accuracy. You should have an accuracy greater than 50%. If you don't, keep tweaking the model architecture and parameters."
   ]
  },
  {
   "cell_type": "code",
   "execution_count": 48,
   "metadata": {
    "collapsed": false
   },
   "outputs": [
    {
     "name": "stdout",
     "output_type": "stream",
     "text": [
      "INFO:tensorflow:Restoring parameters from ./image_classification\n",
      "Testing Accuracy: 0.5537109375\n",
      "\n"
     ]
    },
    {
     "data": {
      "image/png": "[encoded data removed]",
      "text/plain": [
       "<matplotlib.figure.Figure at 0x16878826d68>"
      ]
     },
     "metadata": {
      "image/png": {
       "height": 319,
       "width": 355
      }
     },
     "output_type": "display_data"
    }
   ],
   "source": [
    "\"\"\"\n",
    "DON'T MODIFY ANYTHING IN THIS CELL\n",
    "\"\"\"\n",
    "%matplotlib inline\n",
    "%config InlineBackend.figure_format = 'retina'\n",
    "\n",
    "import tensorflow as tf\n",
    "import pickle\n",
    "import helper\n",
    "import random\n",
    "\n",
    "# Set batch size if not already set\n",
    "try:\n",
    "    if batch_size:\n",
    "        pass\n",
    "except NameError:\n",
    "    batch_size = 64\n",
    "\n",
    "save_model_path = './image_classification'\n",
    "n_samples = 4\n",
    "top_n_predictions = 3\n",
    "\n",
    "def test_model():\n",
    "    \"\"\"\n",
    "    Test the saved model against the test dataset\n",
    "    \"\"\"\n",
    "\n",
    "    test_features, test_labels = pickle.load(open('preprocess_training.p', mode='rb'))\n",
    "    loaded_graph = tf.Graph()\n",
    "\n",
    "    with tf.Session(graph=loaded_graph) as sess:\n",
    "        # Load model\n",
    "        loader = tf.train.import_meta_graph(save_model_path + '.meta')\n",
    "        loader.restore(sess, save_model_path)\n",
    "\n",
    "        # Get Tensors from loaded model\n",
    "        loaded_x = loaded_graph.get_tensor_by_name('x:0')\n",
    "        loaded_y = loaded_graph.get_tensor_by_name('y:0')\n",
    "        loaded_keep_prob = loaded_graph.get_tensor_by_name('keep_prob:0')\n",
    "        loaded_logits = loaded_graph.get_tensor_by_name('logits:0')\n",
    "        loaded_acc = loaded_graph.get_tensor_by_name('accuracy:0')\n",
    "        \n",
    "        # Get accuracy in batches for memory limitations\n",
    "        test_batch_acc_total = 0\n",
    "        test_batch_count = 0\n",
    "        \n",
    "        for train_feature_batch, train_label_batch in helper.batch_features_labels(test_features, test_labels, batch_size):\n",
    "            test_batch_acc_total += sess.run(\n",
    "                loaded_acc,\n",
    "                feed_dict={loaded_x: train_feature_batch, loaded_y: train_label_batch, loaded_keep_prob: 1.0})\n",
    "            test_batch_count += 1\n",
    "\n",
    "        print('Testing Accuracy: {}\\n'.format(test_batch_acc_total/test_batch_count))\n",
    "\n",
    "        # Print Random Samples\n",
    "        random_test_features, random_test_labels = tuple(zip(*random.sample(list(zip(test_features, test_labels)), n_samples)))\n",
    "        random_test_predictions = sess.run(\n",
    "            tf.nn.top_k(tf.nn.softmax(loaded_logits), top_n_predictions),\n",
    "            feed_dict={loaded_x: random_test_features, loaded_y: random_test_labels, loaded_keep_prob: 1.0})\n",
    "        helper.display_image_predictions(random_test_features, random_test_labels, random_test_predictions)\n",
    "\n",
    "\n",
    "test_model()"
   ]
  },
  {
   "cell_type": "markdown",
   "metadata": {},
   "source": [
    "## Why 50-70% Accuracy?\n",
    "You might be wondering why you can't get an accuracy any higher. First things first, 50% isn't bad for a simple CNN.  Pure guessing would get you 10% accuracy. However, you might notice people are getting scores [well above 70%](http://rodrigob.github.io/are_we_there_yet/build/classification_datasets_results.html#43494641522d3130).  That's because we haven't taught you all there is to know about neural networks. We still need to cover a few more techniques.\n",
    "## Submitting This Project\n",
    "When submitting this project, make sure to run all the cells before saving the notebook.  Save the notebook file as \"dlnd_image_classification.ipynb\" and save it as a HTML file under \"File\" -> \"Download as\".  Include the \"helper.py\" and \"problem_unittests.py\" files in your submission."
   ]
  }
 ],
 "metadata": {
  "kernelspec": {
   "display_name": "Python 3",
   "language": "python",
   "name": "python3"
  },
  "language_info": {
   "codemirror_mode": {
    "name": "ipython",
    "version": 3
   },
   "file_extension": ".py",
   "mimetype": "text/x-python",
   "name": "python",
   "nbconvert_exporter": "python",
   "pygments_lexer": "ipython3",
   "version": "3.5.2"
  }
 },
 "nbformat": 4,
 "nbformat_minor": 0
}
